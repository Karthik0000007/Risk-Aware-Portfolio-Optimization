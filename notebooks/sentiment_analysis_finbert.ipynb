{
 "cells": [
  {
   "cell_type": "code",
   "execution_count": 16,
   "id": "9ba4ab62",
   "metadata": {},
   "outputs": [
    {
     "name": "stderr",
     "output_type": "stream",
     "text": [
      "c:\\Users\\saira\\Desktop\\Risk-Aware Optimization\\Risk_Aware_venv\\Lib\\site-packages\\huggingface_hub\\file_download.py:943: FutureWarning: `resume_download` is deprecated and will be removed in version 1.0.0. Downloads always resume when possible. If you want to force a new download, use `force_download=True`.\n",
      "  warnings.warn(\n"
     ]
    }
   ],
   "source": [
    "from transformers import AutoTokenizer, AutoModelForSequenceClassification\n",
    "from transformers import pipeline\n",
    "\n",
    "# Load FinBERT model trained for financial sentiment\n",
    "model_name = \"ProsusAI/finbert\"\n",
    "tokenizer = AutoTokenizer.from_pretrained(model_name)\n",
    "model = AutoModelForSequenceClassification.from_pretrained(model_name)\n",
    "\n",
    "# Create the custom pipeline\n",
    "sentiment_pipeline = pipeline(\"sentiment-analysis\", model=model, tokenizer=tokenizer)\n"
   ]
  },
  {
   "cell_type": "code",
   "execution_count": 17,
   "id": "93973678",
   "metadata": {},
   "outputs": [
    {
     "name": "stdout",
     "output_type": "stream",
     "text": [
      "Apple shares rally after record iPhone sales -> [{'label': 'positive', 'score': 0.5049891471862793}]\n",
      "Google stock plunges amid antitrust concerns -> [{'label': 'negative', 'score': 0.9598020911216736}]\n",
      "Investors brace for Fed interest rate hike -> [{'label': 'neutral', 'score': 0.5444203019142151}]\n",
      "Microsoft announces quarterly profits exceeding expectations -> [{'label': 'positive', 'score': 0.7326446771621704}]\n",
      "Recession fears mount as job growth slows -> [{'label': 'negative', 'score': 0.9646546840667725}]\n"
     ]
    }
   ],
   "source": [
    "# Testing with a dummy list\n",
    "\n",
    "news = [\n",
    "    \"Apple shares rally after record iPhone sales\",\n",
    "    \"Google stock plunges amid antitrust concerns\",\n",
    "    \"Investors brace for Fed interest rate hike\",\n",
    "    \"Microsoft announces quarterly profits exceeding expectations\",\n",
    "    \"Recession fears mount as job growth slows\"\n",
    "]\n",
    "\n",
    "for headline in news:\n",
    "    print(headline, \"->\", sentiment_pipeline(headline))\n"
   ]
  },
  {
   "cell_type": "code",
   "execution_count": null,
   "id": "c39fff50",
   "metadata": {},
   "outputs": [
    {
     "name": "stderr",
     "output_type": "stream",
     "text": [
      "No model was supplied, defaulted to distilbert/distilbert-base-uncased-finetuned-sst-2-english and revision af0f99b (https://huggingface.co/distilbert/distilbert-base-uncased-finetuned-sst-2-english).\n",
      "Using a pipeline without specifying a model name and revision in production is not recommended.\n",
      "c:\\Users\\saira\\Desktop\\Risk-Aware Optimization\\Risk_Aware_venv\\Lib\\site-packages\\huggingface_hub\\file_download.py:943: FutureWarning: `resume_download` is deprecated and will be removed in version 1.0.0. Downloads always resume when possible. If you want to force a new download, use `force_download=True`.\n",
      "  warnings.warn(\n"
     ]
    },
    {
     "name": "stdout",
     "output_type": "stream",
     "text": [
      "Pope Leo warns politicians of the challenges posed by AI -> NEGATIVE (score: 0.93)\n",
      "Microsoft suspending an ICC judge's email account raised alarms across EU about how dependent its governments, businesses, and citizens are on US tech companies -> NEGATIVE (score: 0.99)\n",
      "SNB's Schlegel still ready to intervene in forex markets despite U.S. list -> POSITIVE (score: 0.57)\n",
      "Shrinking's Bill Lawrence Revealed The Impact Michael J. Fox's Character Will Have On Season 3, And One Thing Has Me Relieved -> POSITIVE (score: 0.99)\n",
      "When Will the iPhone 17 Be Released? We're Following All the Rumors and Leaks -> NEGATIVE (score: 1.00)\n"
     ]
    }
   ],
   "source": [
    "import requests\n",
    "from transformers import pipeline\n",
    "\n",
    "# Use your NewsAPI key\n",
    "API_KEY = '1b836923f0954f26932da9f8895712f6'\n",
    "\n",
    "# Search for news about Apple\n",
    "url = (\n",
    "    'https://newsapi.org/v2/everything?'\n",
    "    'q=Apple&'\n",
    "    'language=en&'\n",
    "    'sortBy=publishedAt&'\n",
    "    f'apiKey={API_KEY}'\n",
    ")\n",
    "\n",
    "response = requests.get(url)\n",
    "data = response.json()\n",
    "\n",
    "# Extract titles\n",
    "headlines = [article['title'] for article in data.get('articles', []) if 'title' in article]\n",
    "\n",
    "# Load pre-trained sentiment model\n",
    "sentiment_pipeline = pipeline(\"sentiment-analysis\")\n",
    "\n",
    "# Analyze sentiment for first 5 headlines\n",
    "for h in headlines[:5]:\n",
    "    result = sentiment_pipeline(h)[0]\n",
    "    print(f\"{h} -> {result['label']} (score: {result['score']:.2f})\")\n"
   ]
  },
  {
   "cell_type": "markdown",
   "id": "46a6bc4b",
   "metadata": {},
   "source": [
    "##### Positive news suggests optimism, growth, or improvement for the company\n",
    "##### Negative news signals problems, declines, or risks to the company.\n",
    "##### Neutral news is informative, balanced, or doesn’t clearly impact investor sentiment either way."
   ]
  },
  {
   "cell_type": "code",
   "execution_count": 19,
   "id": "92ec31a5",
   "metadata": {},
   "outputs": [
    {
     "name": "stderr",
     "output_type": "stream",
     "text": [
      "No model was supplied, defaulted to distilbert/distilbert-base-uncased-finetuned-sst-2-english and revision af0f99b (https://huggingface.co/distilbert/distilbert-base-uncased-finetuned-sst-2-english).\n",
      "Using a pipeline without specifying a model name and revision in production is not recommended.\n"
     ]
    },
    {
     "data": {
      "text/html": [
       "<div>\n",
       "<style scoped>\n",
       "    .dataframe tbody tr th:only-of-type {\n",
       "        vertical-align: middle;\n",
       "    }\n",
       "\n",
       "    .dataframe tbody tr th {\n",
       "        vertical-align: top;\n",
       "    }\n",
       "\n",
       "    .dataframe thead th {\n",
       "        text-align: right;\n",
       "    }\n",
       "</style>\n",
       "<table border=\"1\" class=\"dataframe\">\n",
       "  <thead>\n",
       "    <tr style=\"text-align: right;\">\n",
       "      <th></th>\n",
       "      <th>positive</th>\n",
       "      <th>neutral</th>\n",
       "      <th>negative</th>\n",
       "    </tr>\n",
       "  </thead>\n",
       "  <tbody>\n",
       "    <tr>\n",
       "      <th>0</th>\n",
       "      <td>0.000000</td>\n",
       "      <td>0</td>\n",
       "      <td>0.926877</td>\n",
       "    </tr>\n",
       "    <tr>\n",
       "      <th>1</th>\n",
       "      <td>0.000000</td>\n",
       "      <td>0</td>\n",
       "      <td>0.992915</td>\n",
       "    </tr>\n",
       "    <tr>\n",
       "      <th>2</th>\n",
       "      <td>0.571229</td>\n",
       "      <td>0</td>\n",
       "      <td>0.000000</td>\n",
       "    </tr>\n",
       "    <tr>\n",
       "      <th>3</th>\n",
       "      <td>0.990210</td>\n",
       "      <td>0</td>\n",
       "      <td>0.000000</td>\n",
       "    </tr>\n",
       "    <tr>\n",
       "      <th>4</th>\n",
       "      <td>0.000000</td>\n",
       "      <td>0</td>\n",
       "      <td>0.998202</td>\n",
       "    </tr>\n",
       "  </tbody>\n",
       "</table>\n",
       "</div>"
      ],
      "text/plain": [
       "   positive  neutral  negative\n",
       "0  0.000000        0  0.926877\n",
       "1  0.000000        0  0.992915\n",
       "2  0.571229        0  0.000000\n",
       "3  0.990210        0  0.000000\n",
       "4  0.000000        0  0.998202"
      ]
     },
     "execution_count": 19,
     "metadata": {},
     "output_type": "execute_result"
    }
   ],
   "source": [
    "from transformers import pipeline\n",
    "import pandas as pd\n",
    "\n",
    "sentiment = pipeline(\"sentiment-analysis\")\n",
    "\n",
    "def get_sentiment_score(text):\n",
    "    result = sentiment(text)[0]  # returns a dict with 'label' and 'score'\n",
    "    label = result['label'].lower()\n",
    "    score = result['score']\n",
    "    return {\n",
    "        \"positive\": score if label == \"positive\" else 0,\n",
    "        \"neutral\": score if label == \"neutral\" else 0,\n",
    "        \"negative\": score if label == \"negative\" else 0\n",
    "    }\n",
    "\n",
    "sentiment_scores = [get_sentiment_score(h) for h in headlines[:5]]\n",
    "df = pd.DataFrame(sentiment_scores)\n",
    "df"
   ]
  },
  {
   "cell_type": "code",
   "execution_count": 20,
   "id": "c00be610",
   "metadata": {},
   "outputs": [],
   "source": [
    "df['headline'] = headlines[:5]\n",
    "df.to_csv('../data/aapl_sentiment_sample.csv', index=False)"
   ]
  },
  {
   "cell_type": "code",
   "execution_count": null,
   "id": "f7c353b9",
   "metadata": {},
   "outputs": [],
   "source": []
  }
 ],
 "metadata": {
  "kernelspec": {
   "display_name": "Risk_Aware_venv",
   "language": "python",
   "name": "python3"
  },
  "language_info": {
   "codemirror_mode": {
    "name": "ipython",
    "version": 3
   },
   "file_extension": ".py",
   "mimetype": "text/x-python",
   "name": "python",
   "nbconvert_exporter": "python",
   "pygments_lexer": "ipython3",
   "version": "3.11.9"
  }
 },
 "nbformat": 4,
 "nbformat_minor": 5
}
