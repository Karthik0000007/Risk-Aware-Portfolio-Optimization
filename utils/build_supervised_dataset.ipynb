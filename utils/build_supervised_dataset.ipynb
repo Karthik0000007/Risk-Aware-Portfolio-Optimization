{
 "cells": [
  {
   "cell_type": "code",
   "execution_count": 1,
   "id": "56c4b535",
   "metadata": {},
   "outputs": [],
   "source": [
    "import pandas as pd\n",
    "import numpy as np\n",
    "from ta.momentum import RSIIndicator\n",
    "from ta.trend import MACD\n",
    "from ta.volatility import BollingerBands"
   ]
  },
  {
   "cell_type": "code",
   "execution_count": 2,
   "id": "1f30ef7a",
   "metadata": {},
   "outputs": [],
   "source": [
    "etf_list = ['QQQ', 'GLD', 'IWM', 'XLE', 'XLF', 'TLT', 'SPY']\n",
    "etfs = {}\n",
    "\n",
    "for etf in etf_list:\n",
    "    df = pd.read_csv(f\"../data/{etf}_with_regime.csv\", index_col=0, parse_dates=True)\n",
    "    df.rename(columns={etf: 'Close'}, inplace=True)  # standardize\n",
    "    df.dropna(inplace=True)\n",
    "\n",
    "    # Basic Features\n",
    "    df[f'{etf}_MACD'] = MACD(df['Close']).macd()\n",
    "    df[f'{etf}_RSI'] = RSIIndicator(df['Close']).rsi()\n",
    "    df[f'{etf}_Bollinger_Width'] = BollingerBands(df['Close']).bollinger_wband()\n",
    "    df[f'{etf}_Sharpe'] = (df['Close'].pct_change().mean() / df['Close'].pct_change().std()) * np.sqrt(252)\n",
    "\n",
    "    etfs[etf] = df[[f'{etf}_MACD', f'{etf}_RSI', f'{etf}_Bollinger_Width', f'{etf}_Sharpe', 'Regime']]"
   ]
  },
  {
   "cell_type": "code",
   "execution_count": 3,
   "id": "0c2bc3e4",
   "metadata": {},
   "outputs": [],
   "source": [
    "from functools import reduce"
   ]
  },
  {
   "cell_type": "code",
   "execution_count": 8,
   "id": "526b181c",
   "metadata": {},
   "outputs": [
    {
     "name": "stdout",
     "output_type": "stream",
     "text": [
      " Saved: qqq_supervised.csv with cross-ETF features\n"
     ]
    }
   ],
   "source": [
    "# Start with QQQ as base\n",
    "master_df = etfs['QQQ'].copy()\n",
    "\n",
    "# Merge other ETFs' data with unique suffixes to avoid column name clashes\n",
    "for etf in etf_list:\n",
    "    if etf == 'QQQ':\n",
    "        continue\n",
    "\n",
    "    # Add ETF-specific suffix to all columns before joining\n",
    "    suffix = f\"_{etf}\"\n",
    "    etf_df = etfs[etf].add_suffix(suffix)\n",
    "\n",
    "    # Join using inner join on index (e.g. date)\n",
    "    master_df = master_df.join(etf_df, how='inner')\n",
    "\n",
    "# Add QQQ future return direction as binary target\n",
    "master_df['QQQ_Return'] = master_df['QQQ_MACD'].shift(-1)  # can change to 'Close' or another signal\n",
    "master_df['Target'] = (master_df['QQQ_Return'] > 0).astype(int)\n",
    "\n",
    "# Drop rows with NaNs introduced by shifting/joining\n",
    "master_df.dropna(inplace=True)\n",
    "\n",
    "# Save to CSV\n",
    "master_df.to_csv(\"../data/qqq_supervised.csv\")\n",
    "print(\" Saved: qqq_supervised.csv with cross-ETF features\")\n"
   ]
  },
  {
   "cell_type": "code",
   "execution_count": null,
   "id": "bdfe7079",
   "metadata": {},
   "outputs": [],
   "source": []
  }
 ],
 "metadata": {
  "kernelspec": {
   "display_name": "Risk_Aware_venv",
   "language": "python",
   "name": "python3"
  },
  "language_info": {
   "codemirror_mode": {
    "name": "ipython",
    "version": 3
   },
   "file_extension": ".py",
   "mimetype": "text/x-python",
   "name": "python",
   "nbconvert_exporter": "python",
   "pygments_lexer": "ipython3",
   "version": "3.11.9"
  }
 },
 "nbformat": 4,
 "nbformat_minor": 5
}
