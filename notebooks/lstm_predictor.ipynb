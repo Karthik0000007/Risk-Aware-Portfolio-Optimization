{
 "cells": [
  {
   "cell_type": "code",
   "execution_count": 15,
   "id": "8c4d3f84",
   "metadata": {},
   "outputs": [],
   "source": [
    "import pandas as pd\n",
    "import numpy as np\n",
    "import torch\n",
    "import torch.nn as nn\n",
    "from torch.utils.data import Dataset, DataLoader\n",
    "from sklearn.preprocessing import StandardScaler\n",
    "from sklearn.metrics import accuracy_score, classification_report\n",
    "import joblib\n",
    "import os\n",
    "import matplotlib.pyplot as plt"
   ]
  },
  {
   "cell_type": "code",
   "execution_count": 16,
   "id": "ea43c08f",
   "metadata": {},
   "outputs": [],
   "source": [
    "torch.manual_seed(28)\n",
    "np.random.seed(28)"
   ]
  },
  {
   "cell_type": "code",
   "execution_count": 17,
   "id": "c6178b53",
   "metadata": {},
   "outputs": [
    {
     "name": "stdout",
     "output_type": "stream",
     "text": [
      "Loading dataset...\n",
      "Shape: X_seq = (1462, 20, 35), y_seq = (1462,)\n"
     ]
    }
   ],
   "source": [
    "# Load and Prepare Data\n",
    "print(\"Loading dataset...\")\n",
    "df = pd.read_csv(\"../data/qqq_supervised.csv\", index_col=0, parse_dates=True)\n",
    "\n",
    "feature_cols = [col for col in df.columns if col != 'Target' and not col.endswith(\"Return\")]\n",
    "X = df[feature_cols]\n",
    "y = df['Target']\n",
    "\n",
    "scaler = StandardScaler()\n",
    "X_scaled = scaler.fit_transform(X)\n",
    "joblib.dump(scaler, \"../models/day8_lstm_scaler.pkl\")\n",
    "\n",
    "# Create sequences\n",
    "SEQ_LEN = 20\n",
    "X_seq = []\n",
    "y_seq = []\n",
    "for i in range(SEQ_LEN, len(X_scaled)):\n",
    "    X_seq.append(X_scaled[i-SEQ_LEN:i])\n",
    "    y_seq.append(y.iloc[i])\n",
    "\n",
    "X_seq = np.array(X_seq)\n",
    "y_seq = np.array(y_seq)\n",
    "\n",
    "print(f\"Shape: X_seq = {X_seq.shape}, y_seq = {y_seq.shape}\")"
   ]
  },
  {
   "cell_type": "code",
   "execution_count": 18,
   "id": "cf844003",
   "metadata": {},
   "outputs": [],
   "source": [
    "split = int(0.8 * len(X_seq))\n",
    "X_train, X_test = X_seq[:split], X_seq[split:]\n",
    "y_train, y_test = y_seq[:split], y_seq[split:]"
   ]
  },
  {
   "cell_type": "code",
   "execution_count": 19,
   "id": "8e1a9f6a",
   "metadata": {},
   "outputs": [],
   "source": [
    "# PyTorch Dataset\n",
    "class TimeSeriesDataset(Dataset):\n",
    "    def __init__(self, X, y):\n",
    "        self.X = torch.tensor(X, dtype=torch.float32)\n",
    "        self.y = torch.tensor(y, dtype=torch.float32)\n",
    "\n",
    "    def __len__(self):\n",
    "        return len(self.X)\n",
    "\n",
    "    def __getitem__(self, idx):\n",
    "        return self.X[idx], self.y[idx]\n",
    "\n",
    "train_ds = TimeSeriesDataset(X_train, y_train)\n",
    "test_ds = TimeSeriesDataset(X_test, y_test)\n",
    "train_loader = DataLoader(train_ds, batch_size=32, shuffle=True)\n",
    "test_loader = DataLoader(test_ds, batch_size=32, shuffle=False)"
   ]
  },
  {
   "cell_type": "code",
   "execution_count": 20,
   "id": "e08fe0d8",
   "metadata": {},
   "outputs": [],
   "source": [
    "# LSTM Model\n",
    "class LSTMClassifier(nn.Module):\n",
    "    def __init__(self, input_dim, hidden_dim, num_layers):\n",
    "        super(LSTMClassifier, self).__init__()\n",
    "        self.lstm = nn.LSTM(input_dim, hidden_dim, num_layers, batch_first=True)\n",
    "        self.fc = nn.Linear(hidden_dim, 1)\n",
    "        self.sigmoid = nn.Sigmoid()\n",
    "\n",
    "    def forward(self, x):\n",
    "        _, (hn, _) = self.lstm(x)\n",
    "        out = self.fc(hn[-1])\n",
    "        return self.sigmoid(out)\n",
    "\n",
    "input_dim = X_seq.shape[2]\n",
    "model = LSTMClassifier(input_dim=input_dim, hidden_dim=64, num_layers=2)"
   ]
  },
  {
   "cell_type": "code",
   "execution_count": 21,
   "id": "ed70e4d4",
   "metadata": {},
   "outputs": [
    {
     "name": "stdout",
     "output_type": "stream",
     "text": [
      "\n",
      "Training started...\n",
      "Epoch 1/15 | Loss: 17.3327\n",
      "Epoch 2/15 | Loss: 7.6938\n",
      "Epoch 3/15 | Loss: 5.9227\n",
      "Epoch 4/15 | Loss: 3.8796\n",
      "Epoch 5/15 | Loss: 3.1975\n",
      "Epoch 6/15 | Loss: 2.7432\n",
      "Epoch 7/15 | Loss: 2.3340\n",
      "Epoch 8/15 | Loss: 2.2124\n",
      "Epoch 9/15 | Loss: 2.0859\n",
      "Epoch 10/15 | Loss: 1.9122\n",
      "Epoch 11/15 | Loss: 1.9621\n",
      "Epoch 12/15 | Loss: 1.6853\n",
      "Epoch 13/15 | Loss: 1.4901\n",
      "Epoch 14/15 | Loss: 2.2133\n",
      "Epoch 15/15 | Loss: 1.4568\n"
     ]
    }
   ],
   "source": [
    "# Training\n",
    "loss_fn = nn.BCELoss()\n",
    "optimizer = torch.optim.Adam(model.parameters(), lr=0.001)\n",
    "\n",
    "epochs = 15\n",
    "train_losses = []\n",
    "\n",
    "print(\"\\nTraining started...\")\n",
    "for epoch in range(epochs):\n",
    "    model.train()\n",
    "    epoch_loss = 0\n",
    "    for xb, yb in train_loader:\n",
    "        optimizer.zero_grad()\n",
    "        preds = model(xb).squeeze()\n",
    "        loss = loss_fn(preds, yb)\n",
    "        loss.backward()\n",
    "        optimizer.step()\n",
    "        epoch_loss += loss.item()\n",
    "    train_losses.append(epoch_loss / len(train_loader))\n",
    "    print(f\"Epoch {epoch+1}/{epochs} | Loss: {epoch_loss:.4f}\")"
   ]
  },
  {
   "cell_type": "code",
   "execution_count": 22,
   "id": "c7f8113f",
   "metadata": {},
   "outputs": [
    {
     "name": "stdout",
     "output_type": "stream",
     "text": [
      "\n",
      "Test Accuracy: 94.54%\n",
      "\n",
      "Classification Report:\n",
      "               precision    recall  f1-score   support\n",
      "\n",
      "           0       0.81      0.85      0.83        46\n",
      "           1       0.97      0.96      0.97       247\n",
      "\n",
      "    accuracy                           0.95       293\n",
      "   macro avg       0.89      0.91      0.90       293\n",
      "weighted avg       0.95      0.95      0.95       293\n",
      "\n"
     ]
    }
   ],
   "source": [
    "# Evaluation \n",
    "model.eval()\n",
    "preds = []\n",
    "true = []\n",
    "with torch.no_grad():\n",
    "    for xb, yb in test_loader:\n",
    "        out = model(xb).squeeze()\n",
    "        preds += list((out > 0.5).int().numpy())\n",
    "        true += list(yb.int().numpy())\n",
    "\n",
    "acc = accuracy_score(true, preds)\n",
    "print(f\"\\nTest Accuracy: {acc * 100:.2f}%\")\n",
    "print(\"\\nClassification Report:\\n\", classification_report(true, preds))"
   ]
  },
  {
   "cell_type": "code",
   "execution_count": 23,
   "id": "80cd74f5",
   "metadata": {},
   "outputs": [
    {
     "name": "stdout",
     "output_type": "stream",
     "text": [
      "Saved model to ../models/day8_lstm_model.pt\n"
     ]
    }
   ],
   "source": [
    "# Save Model\n",
    "os.makedirs(\"../models\", exist_ok=True)\n",
    "torch.save(model.state_dict(), \"../models/day8_lstm_model.pt\")\n",
    "print(\"Saved model to ../models/day8_lstm_model.pt\")"
   ]
  },
  {
   "cell_type": "code",
   "execution_count": 24,
   "id": "2c2492c6",
   "metadata": {},
   "outputs": [
    {
     "data": {
      "image/png": "[encoded data removed]",
      "text/plain": [
       "<Figure size 640x480 with 1 Axes>"
      ]
     },
     "metadata": {},
     "output_type": "display_data"
    }
   ],
   "source": [
    "# Plotting Training Loss\n",
    "plt.plot(train_losses, label=\"Train Loss\")\n",
    "plt.title(\"LSTM Training Loss\")\n",
    "plt.xlabel(\"Epoch\")\n",
    "plt.ylabel(\"Loss\")\n",
    "plt.grid(True)\n",
    "plt.legend()\n",
    "plt.tight_layout()\n",
    "plt.savefig(\"../figures/day8_lstm_loss.png\", dpi=300)\n",
    "plt.show()"
   ]
  },
  {
   "cell_type": "code",
   "execution_count": null,
   "id": "8f133342",
   "metadata": {},
   "outputs": [],
   "source": []
  }
 ],
 "metadata": {
  "kernelspec": {
   "display_name": "Risk_Aware_venv",
   "language": "python",
   "name": "python3"
  },
  "language_info": {
   "codemirror_mode": {
    "name": "ipython",
    "version": 3
   },
   "file_extension": ".py",
   "mimetype": "text/x-python",
   "name": "python",
   "nbconvert_exporter": "python",
   "pygments_lexer": "ipython3",
   "version": "3.11.9"
  }
 },
 "nbformat": 4,
 "nbformat_minor": 5
}
