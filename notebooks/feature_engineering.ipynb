{
 "cells": [
  {
   "cell_type": "code",
   "execution_count": 8,
   "id": "44641c72",
   "metadata": {},
   "outputs": [],
   "source": [
    "import pandas as pd\n",
    "import numpy as np\n",
    "import sys\n",
    "sys.path.append(\"..\")"
   ]
  },
  {
   "cell_type": "code",
   "execution_count": 9,
   "id": "4b60dbbf",
   "metadata": {},
   "outputs": [],
   "source": [
    "from utils.indicators import (\n",
    "    compute_rsi,\n",
    "    compute_macd,\n",
    "    compute_bollinger,\n",
    "    sharpe_ratio,\n",
    "    sortino_ratio,\n",
    "    max_drawdown\n",
    ")"
   ]
  },
  {
   "cell_type": "code",
   "execution_count": 2,
   "id": "2afee195",
   "metadata": {},
   "outputs": [],
   "source": [
    "# Load the full dataset (from previous days)\n",
    "price_data = pd.read_csv('../data/stock_prices.csv', index_col=0, parse_dates=True)\n",
    "ticker = 'AAPL'  # let's start with one stock for simplicity\n",
    "data = price_data[[ticker]].dropna()"
   ]
  },
  {
   "cell_type": "code",
   "execution_count": 10,
   "id": "8cb89909",
   "metadata": {},
   "outputs": [],
   "source": [
    "data['RSI'] = compute_rsi(data[ticker])\n"
   ]
  },
  {
   "cell_type": "code",
   "execution_count": 11,
   "id": "5885a7d1",
   "metadata": {},
   "outputs": [],
   "source": [
    "data['MACD'], data['MACD_Signal'] = compute_macd(data[ticker])\n"
   ]
  },
  {
   "cell_type": "code",
   "execution_count": 12,
   "id": "a6214765",
   "metadata": {},
   "outputs": [],
   "source": [
    "data['BB_Mid'], data['BB_Upper'], data['BB_Lower'] = compute_bollinger(data[ticker])\n"
   ]
  },
  {
   "cell_type": "code",
   "execution_count": 13,
   "id": "5eb273ed",
   "metadata": {},
   "outputs": [
    {
     "name": "stdout",
     "output_type": "stream",
     "text": [
      "Sharpe: 1.149464607790379\n",
      "Sortino: 1.612012967166193\n",
      "Max Drawdown: -0.3142727206343378\n"
     ]
    }
   ],
   "source": [
    "# Risk Metrics on returns\n",
    "returns = data[ticker].pct_change().dropna()\n",
    "\n",
    "print(\"Sharpe:\", sharpe_ratio(returns))\n",
    "print(\"Sortino:\", sortino_ratio(returns))\n",
    "print(\"Max Drawdown:\", max_drawdown(returns))\n"
   ]
  },
  {
   "cell_type": "code",
   "execution_count": 7,
   "id": "04f02b9c",
   "metadata": {},
   "outputs": [],
   "source": [
    "data.dropna(inplace=True)\n",
    "data.to_csv(\"../data/engineered_features_aapl.csv\")\n",
    "# Save the processed data with technical indicators and risk metrics"
   ]
  },
  {
   "cell_type": "code",
   "execution_count": null,
   "id": "9c370a26",
   "metadata": {},
   "outputs": [],
   "source": []
  }
 ],
 "metadata": {
  "kernelspec": {
   "display_name": "Risk_Aware_venv",
   "language": "python",
   "name": "python3"
  },
  "language_info": {
   "codemirror_mode": {
    "name": "ipython",
    "version": 3
   },
   "file_extension": ".py",
   "mimetype": "text/x-python",
   "name": "python",
   "nbconvert_exporter": "python",
   "pygments_lexer": "ipython3",
   "version": "3.11.9"
  }
 },
 "nbformat": 4,
 "nbformat_minor": 5
}
