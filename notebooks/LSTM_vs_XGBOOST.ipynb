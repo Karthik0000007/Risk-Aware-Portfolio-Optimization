{
 "cells": [
  {
   "cell_type": "code",
   "execution_count": 11,
   "id": "f9ae3a2b",
   "metadata": {},
   "outputs": [],
   "source": [
    "import pandas as pd\n",
    "import numpy as np\n",
    "import torch\n",
    "import torch.nn as nn\n",
    "from torch.utils.data import DataLoader, TensorDataset\n",
    "from xgboost import XGBClassifier\n",
    "from sklearn.metrics import classification_report, confusion_matrix\n",
    "import joblib\n",
    "import seaborn as sns\n",
    "import matplotlib.pyplot as plt"
   ]
  },
  {
   "cell_type": "code",
   "execution_count": 12,
   "id": "33e8e6a2",
   "metadata": {},
   "outputs": [],
   "source": [
    "# Load data\n",
    "df = pd.read_csv(\"../data/qqq_supervised.csv\", index_col=0, parse_dates=True)\n",
    "feature_cols = [col for col in df.columns if col != 'Target' and not col.endswith(\"Return\")]\n",
    "X = df[feature_cols]\n",
    "y = df['Target']"
   ]
  },
  {
   "cell_type": "code",
   "execution_count": 13,
   "id": "5dc2ed4a",
   "metadata": {},
   "outputs": [],
   "source": [
    "# Load scalers and models\n",
    "scaler = joblib.load(\"../models/day7_xgb_scaler.pkl\")\n",
    "X_scaled = scaler.transform(X)\n",
    "\n",
    "xgb_model = XGBClassifier()\n",
    "xgb_model.load_model(\"../models/day7_xgb_multi_etf_classifier.json\")\n",
    "\n",
    "lstm_scaler = joblib.load(\"../models/day8_lstm_scaler.pkl\")\n",
    "X_lstm_scaled = lstm_scaler.transform(X)\n",
    "\n",
    "# Create sequences for LSTM\n",
    "SEQ_LEN = 20\n",
    "X_seq = []\n",
    "y_seq = []\n",
    "for i in range(SEQ_LEN, len(X_lstm_scaled)):\n",
    "    X_seq.append(X_lstm_scaled[i-SEQ_LEN:i])\n",
    "    y_seq.append(y.iloc[i])\n",
    "\n",
    "X_seq = np.array(X_seq)\n",
    "y_seq = np.array(y_seq)\n",
    "\n",
    "split = int(0.8 * len(X_seq))\n",
    "X_seq_test = torch.tensor(X_seq[split:], dtype=torch.float32)\n",
    "y_seq_test = torch.tensor(y_seq[split:], dtype=torch.float32)"
   ]
  },
  {
   "cell_type": "code",
   "execution_count": 14,
   "id": "ce0a960e",
   "metadata": {},
   "outputs": [
    {
     "data": {
      "text/plain": [
       "LSTMClassifier(\n",
       "  (lstm): LSTM(35, 64, num_layers=2, batch_first=True)\n",
       "  (fc): Linear(in_features=64, out_features=1, bias=True)\n",
       "  (sigmoid): Sigmoid()\n",
       ")"
      ]
     },
     "execution_count": 14,
     "metadata": {},
     "output_type": "execute_result"
    }
   ],
   "source": [
    "# Define LSTM model structure\n",
    "class LSTMClassifier(nn.Module):\n",
    "    def __init__(self, input_dim, hidden_dim, num_layers):\n",
    "        super(LSTMClassifier, self).__init__()\n",
    "        self.lstm = nn.LSTM(input_dim, hidden_dim, num_layers, batch_first=True)\n",
    "        self.fc = nn.Linear(hidden_dim, 1)\n",
    "        self.sigmoid = nn.Sigmoid()\n",
    "\n",
    "    def forward(self, x):\n",
    "        _, (hn, _) = self.lstm(x)\n",
    "        out = self.fc(hn[-1])\n",
    "        return self.sigmoid(out)\n",
    "\n",
    "input_dim = X_seq.shape[2]\n",
    "lstm_model = LSTMClassifier(input_dim, 64, 2)\n",
    "lstm_model.load_state_dict(torch.load(\"../models/day8_lstm_model.pt\"))\n",
    "lstm_model.eval()"
   ]
  },
  {
   "cell_type": "code",
   "execution_count": 15,
   "id": "4d9f17ce",
   "metadata": {},
   "outputs": [],
   "source": [
    "# Evaluate LSTM\n",
    "with torch.no_grad():\n",
    "    lstm_preds = lstm_model(X_seq_test).squeeze()\n",
    "    lstm_preds_bin = (lstm_preds > 0.5).int().numpy()"
   ]
  },
  {
   "cell_type": "code",
   "execution_count": 16,
   "id": "8259e3ba",
   "metadata": {},
   "outputs": [],
   "source": [
    "# Evaluate XGBoost\n",
    "X_xgb_test = X_scaled[-len(X_seq_test):]\n",
    "y_xgb_test = y_seq[-len(X_seq_test):]\n",
    "xgb_preds = xgb_model.predict(X_xgb_test)"
   ]
  },
  {
   "cell_type": "code",
   "execution_count": 17,
   "id": "f7b2a22d",
   "metadata": {},
   "outputs": [
    {
     "name": "stdout",
     "output_type": "stream",
     "text": [
      "\n",
      "LSTM Metrics\n",
      "              precision    recall  f1-score   support\n",
      "\n",
      "         0.0       0.81      0.85      0.83        46\n",
      "         1.0       0.97      0.96      0.97       247\n",
      "\n",
      "    accuracy                           0.95       293\n",
      "   macro avg       0.89      0.91      0.90       293\n",
      "weighted avg       0.95      0.95      0.95       293\n",
      "\n",
      "\n",
      "XGBoost Metrics\n",
      "              precision    recall  f1-score   support\n",
      "\n",
      "           0       0.98      0.96      0.97        46\n",
      "           1       0.99      1.00      0.99       247\n",
      "\n",
      "    accuracy                           0.99       293\n",
      "   macro avg       0.98      0.98      0.98       293\n",
      "weighted avg       0.99      0.99      0.99       293\n",
      "\n"
     ]
    }
   ],
   "source": [
    "# Metric Comparison using classification_report\n",
    "def print_metrics(y_true, y_pred, label):\n",
    "    print(f\"\\n{label} Metrics\")\n",
    "    print(classification_report(y_true, y_pred, digits=2))\n",
    "\n",
    "# Call the function for both models\n",
    "print_metrics(y_seq_test, lstm_preds_bin, \"LSTM\")\n",
    "print_metrics(y_xgb_test, xgb_preds, \"XGBoost\")"
   ]
  },
  {
   "cell_type": "code",
   "execution_count": 18,
   "id": "cc82d1a8",
   "metadata": {},
   "outputs": [
    {
     "data": {
      "image/png": "[encoded data removed]",
      "text/plain": [
       "<Figure size 1200x500 with 4 Axes>"
      ]
     },
     "metadata": {},
     "output_type": "display_data"
    }
   ],
   "source": [
    "# Confusion Matrices \n",
    "fig, axs = plt.subplots(1, 2, figsize=(12, 5))\n",
    "sns.heatmap(confusion_matrix(y_seq_test, lstm_preds_bin), annot=True, fmt='d', ax=axs[0], cmap=\"Blues\")\n",
    "axs[0].set_title(\"LSTM Confusion Matrix\")\n",
    "axs[0].set_xlabel(\"Predicted\")\n",
    "axs[0].set_ylabel(\"True\")\n",
    "\n",
    "sns.heatmap(confusion_matrix(y_xgb_test, xgb_preds), annot=True, fmt='d', ax=axs[1], cmap=\"Greens\")\n",
    "axs[1].set_title(\"XGBoost Confusion Matrix\")\n",
    "axs[1].set_xlabel(\"Predicted\")\n",
    "axs[1].set_ylabel(\"True\")\n",
    "\n",
    "plt.tight_layout()\n",
    "plt.savefig(\"../figures/day9_lstm_vs_xgb_confusion.png\", dpi=300)\n",
    "plt.show()"
   ]
  },
  {
   "cell_type": "code",
   "execution_count": null,
   "id": "87c312b5",
   "metadata": {},
   "outputs": [],
   "source": []
  }
 ],
 "metadata": {
  "kernelspec": {
   "display_name": "Risk_Aware_venv",
   "language": "python",
   "name": "python3"
  },
  "language_info": {
   "codemirror_mode": {
    "name": "ipython",
    "version": 3
   },
   "file_extension": ".py",
   "mimetype": "text/x-python",
   "name": "python",
   "nbconvert_exporter": "python",
   "pygments_lexer": "ipython3",
   "version": "3.11.9"
  }
 },
 "nbformat": 4,
 "nbformat_minor": 5
}
